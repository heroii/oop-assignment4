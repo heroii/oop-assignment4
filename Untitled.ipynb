{
 "cells": [
  {
   "cell_type": "code",
   "execution_count": 1,
   "id": "51d44078-6e30-45db-a6ce-21d96b470e46",
   "metadata": {},
   "outputs": [],
   "source": [
    "#q1\n",
    "#Abstraction is on of the most important pillars of object oriented programming(oop).\n",
    "# In Abstraction a abstract method is created which are not instantised and serve the purpose of providing a template for further classes.\n",
    "#for ex- Polygon class is a abstract class ,and rectangle and square are futher classes\n",
    "\n",
    "#polygon class serve as a template of rectangle and square class.\n",
    "#classes mentioned in abstract class have to be present in further classes\n"
   ]
  },
  {
   "cell_type": "code",
   "execution_count": 2,
   "id": "3374a886-7948-4aed-bd13-1119032e08ad",
   "metadata": {},
   "outputs": [],
   "source": [
    "from abc import ABC,abstractmethod\n",
    "@abstractmethod\n",
    "class Polygon:\n",
    "    def area(self):\n",
    "        pass\n",
    "    \n",
    "class rectangle(Polygon):\n",
    "    def __init__(self,a,b):\n",
    "        self.a=a\n",
    "        self.b=b\n",
    "        \n",
    "    def area1(self):\n",
    "        return self.a*self.b\n",
    "    \n",
    "class square(Polygon):\n",
    "    def __init__(self,c,d):\n",
    "        self.c=c\n",
    "        self.d=d\n",
    "    def area(self):\n",
    "        return self.c*self.d\n",
    "        \n",
    "    "
   ]
  },
  {
   "cell_type": "code",
   "execution_count": 3,
   "id": "2281d3bc-4a49-4cab-837c-a217af33fdb2",
   "metadata": {},
   "outputs": [],
   "source": [
    "#q2\n",
    "#Abstraction is on of the most important pillars of object oriented programming(oop).\n",
    "# In Abstraction a abstract method is created which are not instantised and serve the purpose of providing a template for further classes.\n",
    "#for ex- Polygon class is a abstract class ,and rectangle and square are futher classes\n",
    "\n",
    "#polygon class serve as a template of rectangle and square class.\n",
    "#classes mentioned in abstract class have to be present in further classes\n",
    "# in abstarction object of the abstract class is not formed."
   ]
  },
  {
   "cell_type": "code",
   "execution_count": 4,
   "id": "bf2063f0-58ba-4e1d-b557-511bb532233f",
   "metadata": {},
   "outputs": [],
   "source": [
    "#Encapsulation is a one of the main pillars of the object oriented programming.\n",
    "#in Encapsulation some attributes are made to hide or made private to avoid any further problem,and in few cases rest attribute are kept public or unhidden which are not as important  private attribute.\n",
    "#object are formed in encapsulation.\n",
    "#for ex- in ATM code\n",
    "#they do not serve as template"
   ]
  },
  {
   "cell_type": "code",
   "execution_count": 5,
   "id": "e11278fb-212e-4bc3-900d-d30230256e30",
   "metadata": {},
   "outputs": [],
   "source": [
    "class Atm:\n",
    "    \n",
    "    def __init__(self,name,pin):\n",
    "        self.name=name\n",
    "        self.__pin=pin\n",
    "    def display(self):\n",
    "        print(self.name)\n",
    "        print(self.pin)"
   ]
  },
  {
   "cell_type": "code",
   "execution_count": 6,
   "id": "195423d7-0373-468d-a601-5349dc13e28a",
   "metadata": {},
   "outputs": [],
   "source": [
    "s1=Atm('Adi',2202)"
   ]
  },
  {
   "cell_type": "code",
   "execution_count": 7,
   "id": "8b82de2d-6864-4b6d-ac71-a7062ce1fd10",
   "metadata": {},
   "outputs": [
    {
     "name": "stdout",
     "output_type": "stream",
     "text": [
      "Adi\n"
     ]
    },
    {
     "ename": "AttributeError",
     "evalue": "'Atm' object has no attribute 'pin'",
     "output_type": "error",
     "traceback": [
      "\u001b[0;31m---------------------------------------------------------------------------\u001b[0m",
      "\u001b[0;31mAttributeError\u001b[0m                            Traceback (most recent call last)",
      "Cell \u001b[0;32mIn[7], line 1\u001b[0m\n\u001b[0;32m----> 1\u001b[0m \u001b[43ms1\u001b[49m\u001b[38;5;241;43m.\u001b[39;49m\u001b[43mdisplay\u001b[49m\u001b[43m(\u001b[49m\u001b[43m)\u001b[49m\n",
      "Cell \u001b[0;32mIn[5], line 8\u001b[0m, in \u001b[0;36mAtm.display\u001b[0;34m(self)\u001b[0m\n\u001b[1;32m      6\u001b[0m \u001b[38;5;28;01mdef\u001b[39;00m \u001b[38;5;21mdisplay\u001b[39m(\u001b[38;5;28mself\u001b[39m):\n\u001b[1;32m      7\u001b[0m     \u001b[38;5;28mprint\u001b[39m(\u001b[38;5;28mself\u001b[39m\u001b[38;5;241m.\u001b[39mname)\n\u001b[0;32m----> 8\u001b[0m     \u001b[38;5;28mprint\u001b[39m(\u001b[38;5;28;43mself\u001b[39;49m\u001b[38;5;241;43m.\u001b[39;49m\u001b[43mpin\u001b[49m)\n",
      "\u001b[0;31mAttributeError\u001b[0m: 'Atm' object has no attribute 'pin'"
     ]
    }
   ],
   "source": [
    "s1.display()"
   ]
  },
  {
   "cell_type": "code",
   "execution_count": 8,
   "id": "f6ddbc30-1014-4874-a0eb-22c8aabb1089",
   "metadata": {},
   "outputs": [],
   "source": [
    "#name is returned but not pin since it is made private attribute through encapsulation"
   ]
  },
  {
   "cell_type": "code",
   "execution_count": null,
   "id": "a2afd4bc-bb20-4d7e-8601-1501dfb597c0",
   "metadata": {},
   "outputs": [],
   "source": [
    "#q\n",
    "#abc is a module in python which provides the infrastructure for abstract method in python.\n",
    "#it is used because python is partial oop language ,and to have abstraction abc is used to gain abstractmethod"
   ]
  }
 ],
 "metadata": {
  "kernelspec": {
   "display_name": "Python 3 (ipykernel)",
   "language": "python",
   "name": "python3"
  },
  "language_info": {
   "codemirror_mode": {
    "name": "ipython",
    "version": 3
   },
   "file_extension": ".py",
   "mimetype": "text/x-python",
   "name": "python",
   "nbconvert_exporter": "python",
   "pygments_lexer": "ipython3",
   "version": "3.10.8"
  }
 },
 "nbformat": 4,
 "nbformat_minor": 5
}
